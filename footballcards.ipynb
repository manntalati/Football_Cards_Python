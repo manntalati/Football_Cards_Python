{
 "metadata": {
  "language_info": {
   "codemirror_mode": {
    "name": "ipython",
    "version": 3
   },
   "file_extension": ".py",
   "mimetype": "text/x-python",
   "name": "python",
   "nbconvert_exporter": "python",
   "pygments_lexer": "ipython3",
   "version": "3.7.0-final"
  },
  "orig_nbformat": 2,
  "kernelspec": {
   "name": "python3",
   "display_name": "Python 3.7.0 64-bit",
   "metadata": {
    "interpreter": {
     "hash": "befdc39afa6a0fcf7bcb7047207af9536a8b371d0989d24ab608ba8336bf314e"
    }
   }
  }
 },
 "nbformat": 4,
 "nbformat_minor": 2,
 "cells": [
  {
   "cell_type": "code",
   "execution_count": 1,
   "metadata": {},
   "outputs": [],
   "source": [
    "#opening fbcards\n",
    "fbcards = open('cards.txt', 'w+')\n",
    "count = open('card.txt', 'w+')"
   ]
  },
  {
   "cell_type": "code",
   "execution_count": 2,
   "metadata": {},
   "outputs": [],
   "source": [
    "def collection():\n",
    "    football_name = ''\n",
    "    football_cards = []\n",
    "    while football_name.lower() != \"done\":\n",
    "        fbcards.seek(0)\n",
    "        read = fbcards.read()\n",
    "        football_name = input(\"Card or enter done to exit: \")\n",
    "        if football_name.lower() in football_cards:\n",
    "            print(\"This card has already been inserted above and will not count as another card\")\n",
    "        elif football_name.isdigit():\n",
    "            print(\"You have enter a invalid card\")\n",
    "            break\n",
    "        elif football_name.lower() in read:\n",
    "            print(\"This card is already in your collection and was entered in at a different time\")\n",
    "        elif football_name != \"done\":\n",
    "            football_cards.append(football_name.lower())\n",
    "            fbcards.write(football_name.lower())\n",
    "            fbcards.write(\"\\n\")\n",
    "        \n",
    "    \n",
    "    \n",
    "    print(\"\\nNew Cards added:\",'{}'.format(', '.join(football_cards)), \"\\n\")"
   ]
  },
  {
   "cell_type": "code",
   "execution_count": 4,
   "metadata": {},
   "outputs": [
    {
     "output_type": "stream",
     "name": "stdout",
     "text": [
      "Welcome To Your Card Collector Database\n",
      "\n",
      "Press 1 - Add cards to your collection\n",
      "Press 2 - View your collection and view the total number of cards in your collection\n",
      "\n",
      "CARDS:\n",
      "\n",
      "Tom Brady\n",
      "Jj Watt\n",
      "Kirk Cousins\n",
      "\n",
      "Total Number Of Cards:  3\n"
     ]
    }
   ],
   "source": [
    "print(\"Welcome To Your Card Collector Database\\n\")\n",
    "\n",
    "print(\"Press 1 - Add cards to your collection\\nPress 2 - View your collection and view the total number of cards in your collection\")\n",
    "\n",
    "answer = input(\"Enter your request: \")\n",
    "if answer == \"1\":\n",
    "    collection()\n",
    "elif answer == \"2\":\n",
    "    print()\n",
    "    fbcards.seek(0)\n",
    "    print(\"CARDS:\\n\")\n",
    "    fbcard_text = fbcards.readline().strip()\n",
    "    card = 0\n",
    "    while fbcard_text:\n",
    "        print(fbcard_text.title())\n",
    "        fbcard_text = fbcards.readline().strip()\n",
    "        card += 1\n",
    "    print()\n",
    "    print(\"Total Number Of Cards: \", card)\n",
    "else:\n",
    "    print(\"This request is not valid\")"
   ]
  }
 ]
}